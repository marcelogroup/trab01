{
 "cells": [
  {
   "cell_type": "markdown",
   "metadata": {},
   "source": [
    "# Conexão com postgres e Relatorios do Sistema"
   ]
  },
  {
   "cell_type": "markdown",
   "metadata": {},
   "source": [
    "## Instalando biblioteca de acesso com postgres e manipulação de dados e gráficos"
   ]
  },
  {
   "cell_type": "code",
   "execution_count": 5,
   "metadata": {},
   "outputs": [
    {
     "name": "stdout",
     "output_type": "stream",
     "text": [
      "Requirement already satisfied: psycopg2-binary in c:\\users\\20151bsi0436\\appdata\\roaming\\python\\python36\\site-packages (2.7.6.1)\n"
     ]
    },
    {
     "name": "stderr",
     "output_type": "stream",
     "text": [
      "mysql-connector-python 8.0.12 requires protobuf>=3.0.0, which is not installed.\n",
      "You are using pip version 10.0.1, however version 18.1 is available.\n",
      "You should consider upgrading via the 'python -m pip install --upgrade pip' command.\n"
     ]
    },
    {
     "name": "stdout",
     "output_type": "stream",
     "text": [
      "Requirement already satisfied: seaborn in c:\\users\\20151bsi0436\\appdata\\roaming\\python\\python36\\site-packages (0.9.0)\n",
      "Requirement already satisfied: matplotlib>=1.4.3 in c:\\users\\20151bsi0436\\appdata\\roaming\\python\\python36\\site-packages (from seaborn) (3.0.2)\n",
      "Requirement already satisfied: pandas>=0.15.2 in c:\\users\\20151bsi0436\\appdata\\roaming\\python\\python36\\site-packages (from seaborn) (0.23.4)\n",
      "Requirement already satisfied: scipy>=0.14.0 in c:\\users\\20151bsi0436\\appdata\\roaming\\python\\python36\\site-packages (from seaborn) (1.1.0)\n",
      "Requirement already satisfied: numpy>=1.9.3 in c:\\users\\20151bsi0436\\appdata\\roaming\\python\\python36\\site-packages (from seaborn) (1.15.4)\n",
      "Requirement already satisfied: cycler>=0.10 in c:\\users\\20151bsi0436\\appdata\\roaming\\python\\python36\\site-packages (from matplotlib>=1.4.3->seaborn) (0.10.0)\n",
      "Requirement already satisfied: python-dateutil>=2.1 in c:\\users\\20151bsi0436\\appdata\\roaming\\python\\python36\\site-packages (from matplotlib>=1.4.3->seaborn) (2.7.5)\n",
      "Requirement already satisfied: pyparsing!=2.0.4,!=2.1.2,!=2.1.6,>=2.0.1 in c:\\users\\20151bsi0436\\appdata\\roaming\\python\\python36\\site-packages (from matplotlib>=1.4.3->seaborn) (2.3.0)\n",
      "Requirement already satisfied: kiwisolver>=1.0.1 in c:\\users\\20151bsi0436\\appdata\\roaming\\python\\python36\\site-packages (from matplotlib>=1.4.3->seaborn) (1.0.1)\n",
      "Requirement already satisfied: pytz>=2011k in c:\\users\\20151bsi0436\\appdata\\roaming\\python\\python36\\site-packages (from pandas>=0.15.2->seaborn) (2018.7)\n",
      "Requirement already satisfied: six in c:\\users\\20151bsi0436\\appdata\\roaming\\python\\python36\\site-packages (from cycler>=0.10->matplotlib>=1.4.3->seaborn) (1.11.0)\n",
      "Requirement already satisfied: setuptools in c:\\program files\\python36\\lib\\site-packages (from kiwisolver>=1.0.1->matplotlib>=1.4.3->seaborn) (39.0.1)\n"
     ]
    },
    {
     "name": "stderr",
     "output_type": "stream",
     "text": [
      "mysql-connector-python 8.0.12 requires protobuf>=3.0.0, which is not installed.\n",
      "You are using pip version 10.0.1, however version 18.1 is available.\n",
      "You should consider upgrading via the 'python -m pip install --upgrade pip' command.\n"
     ]
    },
    {
     "name": "stdout",
     "output_type": "stream",
     "text": [
      "Requirement already satisfied: pandas in c:\\users\\20151bsi0436\\appdata\\roaming\\python\\python36\\site-packages (0.23.4)\n",
      "Requirement already satisfied: python-dateutil>=2.5.0 in c:\\users\\20151bsi0436\\appdata\\roaming\\python\\python36\\site-packages (from pandas) (2.7.5)\n",
      "Requirement already satisfied: numpy>=1.9.0 in c:\\users\\20151bsi0436\\appdata\\roaming\\python\\python36\\site-packages (from pandas) (1.15.4)\n",
      "Requirement already satisfied: pytz>=2011k in c:\\users\\20151bsi0436\\appdata\\roaming\\python\\python36\\site-packages (from pandas) (2018.7)\n",
      "Requirement already satisfied: six>=1.5 in c:\\users\\20151bsi0436\\appdata\\roaming\\python\\python36\\site-packages (from python-dateutil>=2.5.0->pandas) (1.11.0)\n"
     ]
    },
    {
     "name": "stderr",
     "output_type": "stream",
     "text": [
      "mysql-connector-python 8.0.12 requires protobuf>=3.0.0, which is not installed.\n",
      "You are using pip version 10.0.1, however version 18.1 is available.\n",
      "You should consider upgrading via the 'python -m pip install --upgrade pip' command.\n"
     ]
    }
   ],
   "source": [
    "!pip install --user psycopg2-binary\n",
    "!pip install --user seaborn\n",
    "!pip install --user pandas"
   ]
  },
  {
   "cell_type": "markdown",
   "metadata": {},
   "source": [
    "### Importando bibliotecas"
   ]
  },
  {
   "cell_type": "code",
   "execution_count": 6,
   "metadata": {},
   "outputs": [],
   "source": [
    "import seaborn as sns\n",
    "import pandas as pd\n",
    "import psycopg2"
   ]
  },
  {
   "cell_type": "code",
   "execution_count": null,
   "metadata": {},
   "outputs": [],
   "source": [
    "### Usando psycopg2 para configurar conexão"
   ]
  },
  {
   "cell_type": "code",
   "execution_count": 7,
   "metadata": {},
   "outputs": [],
   "source": [
    "conn = psycopg2.connect(host=\"stampy.db.elephantsql.com\",database=\"pvunmqpv\", user=\"pvunmqpv\", password=\"rX3CKCsGeqAIlEut5W2HeMxF8f-uyYNA\")"
   ]
  },
  {
   "cell_type": "markdown",
   "metadata": {},
   "source": [
    "## Obtendo dados do database com Pandas"
   ]
  },
  {
   "cell_type": "markdown",
   "metadata": {},
   "source": [
    "# Relatório 1"
   ]
  },
  {
   "cell_type": "markdown",
   "metadata": {},
   "source": [
    "### Objetivo: Exibir Relatóriodo histórico de P.h dos tanques\n"
   ]
  },
  {
   "cell_type": "code",
   "execution_count": 22,
   "metadata": {
    "scrolled": false
   },
   "outputs": [
    {
     "data": {
      "text/plain": [
       "<matplotlib.axes._subplots.AxesSubplot at 0x186c386f5c0>"
      ]
     },
     "execution_count": 22,
     "metadata": {},
     "output_type": "execute_result"
    },
    {
     "data": {
      "image/png": "[encoded data removed]",
      "text/plain": [
       "<Figure size 432x288 with 1 Axes>"
      ]
     },
     "metadata": {},
     "output_type": "display_data"
    }
   ],
   "source": [
    "import numpy as np\n",
    "import pandas as pd\n",
    "import seaborn as sns\n",
    "sns.set(style=\"darkgrid\")\n",
    "\n",
    "tanque = pd.read_sql_query(\"\"\"\n",
    "                            select * from historicomedicao where fk_tanque_idtanque=2;                            \n",
    "                            \"\"\",conn)\n",
    "\n",
    "dates  = [\"08:30\",\"09:30\",\"10:30\",\"11:30\",\"12:30\"]\n",
    "\n",
    "tanque=list(tanque['ph'])\n",
    "data = pd.DataFrame(tanque,dates, columns=[\"ph\"] )\n",
    "data = data.rolling(1).mean()\n",
    "\n",
    "sns.lineplot(data=data, palette=\"tab10\", linewidth=3.5)\n"
   ]
  },
  {
   "cell_type": "markdown",
   "metadata": {},
   "source": [
    "# Relatorio 2"
   ]
  },
  {
   "cell_type": "markdown",
   "metadata": {},
   "source": [
    "### Objetivo: Exibir o oxigênio do tanque"
   ]
  },
  {
   "cell_type": "code",
   "execution_count": 11,
   "metadata": {
    "scrolled": true
   },
   "outputs": [
    {
     "data": {
      "text/plain": [
       "<matplotlib.axes._subplots.AxesSubplot at 0x186c363eef0>"
      ]
     },
     "execution_count": 11,
     "metadata": {},
     "output_type": "execute_result"
    },
    {
     "data": {
      "image/png": "[encoded data removed]",
      "text/plain": [
       "<Figure size 432x288 with 1 Axes>"
      ]
     },
     "metadata": {},
     "output_type": "display_data"
    }
   ],
   "source": [
    "result = pd.read_sql_query(\"\"\"\n",
    "                            select * from historicomedicao where fk_tanque_idtanque=2;\n",
    "                            \"\"\",conn)\n",
    "oxigenio=list(result['oxigenio'])\n",
    "dates  = [\"08:30\",\"09:30\",\"10:30\",\"11:30\",\"12:30\"]\n",
    "data = pd.DataFrame(tanque,dates, columns=[\"% oxigenio\"] )\n",
    "sns.lineplot(data=data, palette=\"tab10\", linewidth=3.5)\n"
   ]
  },
  {
   "cell_type": "markdown",
   "metadata": {},
   "source": [
    "# Relatorio 3"
   ]
  },
  {
   "cell_type": "markdown",
   "metadata": {},
   "source": [
    "### Objetivo: Exibir a temperatura do tanque"
   ]
  },
  {
   "cell_type": "code",
   "execution_count": 20,
   "metadata": {},
   "outputs": [
    {
     "data": {
      "text/plain": [
       "<matplotlib.axes._subplots.AxesSubplot at 0x186c3800c88>"
      ]
     },
     "execution_count": 20,
     "metadata": {},
     "output_type": "execute_result"
    },
    {
     "data": {
      "image/png": "[encoded data removed]",
      "text/plain": [
       "<Figure size 432x288 with 1 Axes>"
      ]
     },
     "metadata": {},
     "output_type": "display_data"
    }
   ],
   "source": [
    "result = pd.read_sql_query(\"\"\"\n",
    "                            select * from historicomedicao historicomedicao where fk_tanque_idtanque=2;\n",
    "                            \"\"\",conn)\n",
    "\n",
    "temperatura=list(result['temperatura'])\n",
    "dates  = [\"08:30\",\"09:30\",\"10:30\",\"11:30\",\"12:30\"]\n",
    "data = pd.DataFrame(temperatura,dates, columns=[\"temp °c\"] )\n",
    "sns.lineplot(data=data, palette=\"tab10\", linewidth=3.5)\n",
    "\n",
    "\n"
   ]
  },
  {
   "cell_type": "markdown",
   "metadata": {},
   "source": [
    "Alternativamente podemos aplicar estilos a tabela para melhor formatação usando pandas e seaborn"
   ]
  },
  {
   "cell_type": "markdown",
   "metadata": {},
   "source": [
    "# Relatório 4"
   ]
  },
  {
   "cell_type": "markdown",
   "metadata": {},
   "source": [
    "### Um histórico dos Tanques, com base nos funcionários."
   ]
  },
  {
   "cell_type": "code",
   "execution_count": 21,
   "metadata": {},
   "outputs": [
    {
     "data": {
      "text/html": [
       "<div>\n",
       "<style scoped>\n",
       "    .dataframe tbody tr th:only-of-type {\n",
       "        vertical-align: middle;\n",
       "    }\n",
       "\n",
       "    .dataframe tbody tr th {\n",
       "        vertical-align: top;\n",
       "    }\n",
       "\n",
       "    .dataframe thead th {\n",
       "        text-align: right;\n",
       "    }\n",
       "</style>\n",
       "<table border=\"1\" class=\"dataframe\">\n",
       "  <thead>\n",
       "    <tr style=\"text-align: right;\">\n",
       "      <th></th>\n",
       "      <th>nome</th>\n",
       "      <th>cpf</th>\n",
       "      <th>idtanque</th>\n",
       "      <th>temperatura</th>\n",
       "      <th>ph</th>\n",
       "      <th>oxigenio</th>\n",
       "      <th>nomecientifico</th>\n",
       "      <th>tipoagua</th>\n",
       "      <th>hora</th>\n",
       "      <th>data</th>\n",
       "    </tr>\n",
       "  </thead>\n",
       "  <tbody>\n",
       "    <tr>\n",
       "      <th>0</th>\n",
       "      <td>joaquim</td>\n",
       "      <td>12331622510</td>\n",
       "      <td>4</td>\n",
       "      <td>33.0</td>\n",
       "      <td>7.0</td>\n",
       "      <td>8.6</td>\n",
       "      <td>tilapia</td>\n",
       "      <td>doce</td>\n",
       "      <td>08:30:00</td>\n",
       "      <td>2018-01-28</td>\n",
       "    </tr>\n",
       "    <tr>\n",
       "      <th>1</th>\n",
       "      <td>marcelo</td>\n",
       "      <td>14730683714</td>\n",
       "      <td>1</td>\n",
       "      <td>34.0</td>\n",
       "      <td>7.5</td>\n",
       "      <td>8.9</td>\n",
       "      <td>tilapia</td>\n",
       "      <td>doce</td>\n",
       "      <td>08:30:00</td>\n",
       "      <td>2018-01-28</td>\n",
       "    </tr>\n",
       "    <tr>\n",
       "      <th>2</th>\n",
       "      <td>bilbo</td>\n",
       "      <td>98753612345</td>\n",
       "      <td>5</td>\n",
       "      <td>34.0</td>\n",
       "      <td>7.5</td>\n",
       "      <td>8.9</td>\n",
       "      <td>dourado</td>\n",
       "      <td>doce</td>\n",
       "      <td>08:30:00</td>\n",
       "      <td>2018-01-28</td>\n",
       "    </tr>\n",
       "    <tr>\n",
       "      <th>3</th>\n",
       "      <td>olavo</td>\n",
       "      <td>74731683511</td>\n",
       "      <td>2</td>\n",
       "      <td>33.0</td>\n",
       "      <td>7.0</td>\n",
       "      <td>8.6</td>\n",
       "      <td>tilapia</td>\n",
       "      <td>doce</td>\n",
       "      <td>08:30:00</td>\n",
       "      <td>2018-01-28</td>\n",
       "    </tr>\n",
       "    <tr>\n",
       "      <th>4</th>\n",
       "      <td>jose</td>\n",
       "      <td>71131683510</td>\n",
       "      <td>3</td>\n",
       "      <td>34.0</td>\n",
       "      <td>7.5</td>\n",
       "      <td>8.9</td>\n",
       "      <td>dourado</td>\n",
       "      <td>doce</td>\n",
       "      <td>08:30:00</td>\n",
       "      <td>2018-01-28</td>\n",
       "    </tr>\n",
       "    <tr>\n",
       "      <th>5</th>\n",
       "      <td>joaquim</td>\n",
       "      <td>12331622510</td>\n",
       "      <td>4</td>\n",
       "      <td>33.1</td>\n",
       "      <td>7.1</td>\n",
       "      <td>8.8</td>\n",
       "      <td>tilapia</td>\n",
       "      <td>doce</td>\n",
       "      <td>09:30:00</td>\n",
       "      <td>2018-01-28</td>\n",
       "    </tr>\n",
       "    <tr>\n",
       "      <th>6</th>\n",
       "      <td>jose</td>\n",
       "      <td>71131683510</td>\n",
       "      <td>3</td>\n",
       "      <td>34.1</td>\n",
       "      <td>7.6</td>\n",
       "      <td>8.8</td>\n",
       "      <td>dourado</td>\n",
       "      <td>doce</td>\n",
       "      <td>09:30:00</td>\n",
       "      <td>2018-01-28</td>\n",
       "    </tr>\n",
       "    <tr>\n",
       "      <th>7</th>\n",
       "      <td>olavo</td>\n",
       "      <td>74731683511</td>\n",
       "      <td>2</td>\n",
       "      <td>33.1</td>\n",
       "      <td>7.1</td>\n",
       "      <td>8.8</td>\n",
       "      <td>tilapia</td>\n",
       "      <td>doce</td>\n",
       "      <td>09:30:00</td>\n",
       "      <td>2018-01-28</td>\n",
       "    </tr>\n",
       "    <tr>\n",
       "      <th>8</th>\n",
       "      <td>bilbo</td>\n",
       "      <td>98753612345</td>\n",
       "      <td>5</td>\n",
       "      <td>34.1</td>\n",
       "      <td>7.6</td>\n",
       "      <td>8.8</td>\n",
       "      <td>dourado</td>\n",
       "      <td>doce</td>\n",
       "      <td>09:30:00</td>\n",
       "      <td>2018-01-28</td>\n",
       "    </tr>\n",
       "    <tr>\n",
       "      <th>9</th>\n",
       "      <td>marcelo</td>\n",
       "      <td>14730683714</td>\n",
       "      <td>1</td>\n",
       "      <td>34.1</td>\n",
       "      <td>7.6</td>\n",
       "      <td>8.8</td>\n",
       "      <td>tilapia</td>\n",
       "      <td>doce</td>\n",
       "      <td>09:30:00</td>\n",
       "      <td>2018-01-28</td>\n",
       "    </tr>\n",
       "    <tr>\n",
       "      <th>10</th>\n",
       "      <td>jose</td>\n",
       "      <td>71131683510</td>\n",
       "      <td>3</td>\n",
       "      <td>34.3</td>\n",
       "      <td>7.7</td>\n",
       "      <td>8.7</td>\n",
       "      <td>dourado</td>\n",
       "      <td>doce</td>\n",
       "      <td>10:30:00</td>\n",
       "      <td>2018-01-28</td>\n",
       "    </tr>\n",
       "    <tr>\n",
       "      <th>11</th>\n",
       "      <td>marcelo</td>\n",
       "      <td>14730683714</td>\n",
       "      <td>1</td>\n",
       "      <td>34.3</td>\n",
       "      <td>7.7</td>\n",
       "      <td>8.7</td>\n",
       "      <td>tilapia</td>\n",
       "      <td>doce</td>\n",
       "      <td>10:30:00</td>\n",
       "      <td>2018-01-28</td>\n",
       "    </tr>\n",
       "    <tr>\n",
       "      <th>12</th>\n",
       "      <td>olavo</td>\n",
       "      <td>74731683511</td>\n",
       "      <td>2</td>\n",
       "      <td>32.3</td>\n",
       "      <td>7.5</td>\n",
       "      <td>8.6</td>\n",
       "      <td>tilapia</td>\n",
       "      <td>doce</td>\n",
       "      <td>10:30:00</td>\n",
       "      <td>2018-01-28</td>\n",
       "    </tr>\n",
       "    <tr>\n",
       "      <th>13</th>\n",
       "      <td>joaquim</td>\n",
       "      <td>12331622510</td>\n",
       "      <td>4</td>\n",
       "      <td>32.3</td>\n",
       "      <td>7.5</td>\n",
       "      <td>8.6</td>\n",
       "      <td>tilapia</td>\n",
       "      <td>doce</td>\n",
       "      <td>10:30:00</td>\n",
       "      <td>2018-01-28</td>\n",
       "    </tr>\n",
       "    <tr>\n",
       "      <th>14</th>\n",
       "      <td>bilbo</td>\n",
       "      <td>98753612345</td>\n",
       "      <td>5</td>\n",
       "      <td>34.3</td>\n",
       "      <td>7.7</td>\n",
       "      <td>8.7</td>\n",
       "      <td>dourado</td>\n",
       "      <td>doce</td>\n",
       "      <td>10:30:00</td>\n",
       "      <td>2018-01-28</td>\n",
       "    </tr>\n",
       "    <tr>\n",
       "      <th>15</th>\n",
       "      <td>bilbo</td>\n",
       "      <td>98753612345</td>\n",
       "      <td>5</td>\n",
       "      <td>34.4</td>\n",
       "      <td>7.8</td>\n",
       "      <td>8.7</td>\n",
       "      <td>dourado</td>\n",
       "      <td>doce</td>\n",
       "      <td>11:30:00</td>\n",
       "      <td>2018-01-28</td>\n",
       "    </tr>\n",
       "    <tr>\n",
       "      <th>16</th>\n",
       "      <td>marcelo</td>\n",
       "      <td>14730683714</td>\n",
       "      <td>1</td>\n",
       "      <td>34.4</td>\n",
       "      <td>7.8</td>\n",
       "      <td>8.7</td>\n",
       "      <td>tilapia</td>\n",
       "      <td>doce</td>\n",
       "      <td>11:30:00</td>\n",
       "      <td>2018-01-28</td>\n",
       "    </tr>\n",
       "    <tr>\n",
       "      <th>17</th>\n",
       "      <td>joaquim</td>\n",
       "      <td>12331622510</td>\n",
       "      <td>4</td>\n",
       "      <td>34.4</td>\n",
       "      <td>7.1</td>\n",
       "      <td>8.6</td>\n",
       "      <td>tilapia</td>\n",
       "      <td>doce</td>\n",
       "      <td>11:30:00</td>\n",
       "      <td>2018-01-28</td>\n",
       "    </tr>\n",
       "    <tr>\n",
       "      <th>18</th>\n",
       "      <td>jose</td>\n",
       "      <td>71131683510</td>\n",
       "      <td>3</td>\n",
       "      <td>34.4</td>\n",
       "      <td>7.8</td>\n",
       "      <td>8.7</td>\n",
       "      <td>dourado</td>\n",
       "      <td>doce</td>\n",
       "      <td>11:30:00</td>\n",
       "      <td>2018-01-28</td>\n",
       "    </tr>\n",
       "    <tr>\n",
       "      <th>19</th>\n",
       "      <td>olavo</td>\n",
       "      <td>74731683511</td>\n",
       "      <td>2</td>\n",
       "      <td>34.4</td>\n",
       "      <td>7.1</td>\n",
       "      <td>8.6</td>\n",
       "      <td>tilapia</td>\n",
       "      <td>doce</td>\n",
       "      <td>11:30:00</td>\n",
       "      <td>2018-01-28</td>\n",
       "    </tr>\n",
       "    <tr>\n",
       "      <th>20</th>\n",
       "      <td>jose</td>\n",
       "      <td>71131683510</td>\n",
       "      <td>3</td>\n",
       "      <td>35.5</td>\n",
       "      <td>7.9</td>\n",
       "      <td>8.5</td>\n",
       "      <td>dourado</td>\n",
       "      <td>doce</td>\n",
       "      <td>12:30:00</td>\n",
       "      <td>2018-01-28</td>\n",
       "    </tr>\n",
       "    <tr>\n",
       "      <th>21</th>\n",
       "      <td>joaquim</td>\n",
       "      <td>12331622510</td>\n",
       "      <td>4</td>\n",
       "      <td>33.5</td>\n",
       "      <td>7.1</td>\n",
       "      <td>8.5</td>\n",
       "      <td>tilapia</td>\n",
       "      <td>doce</td>\n",
       "      <td>12:30:00</td>\n",
       "      <td>2018-01-28</td>\n",
       "    </tr>\n",
       "    <tr>\n",
       "      <th>22</th>\n",
       "      <td>marcelo</td>\n",
       "      <td>14730683714</td>\n",
       "      <td>1</td>\n",
       "      <td>35.5</td>\n",
       "      <td>7.9</td>\n",
       "      <td>8.5</td>\n",
       "      <td>tilapia</td>\n",
       "      <td>doce</td>\n",
       "      <td>12:30:00</td>\n",
       "      <td>2018-01-28</td>\n",
       "    </tr>\n",
       "    <tr>\n",
       "      <th>23</th>\n",
       "      <td>bilbo</td>\n",
       "      <td>98753612345</td>\n",
       "      <td>5</td>\n",
       "      <td>35.5</td>\n",
       "      <td>7.9</td>\n",
       "      <td>8.5</td>\n",
       "      <td>dourado</td>\n",
       "      <td>doce</td>\n",
       "      <td>12:30:00</td>\n",
       "      <td>2018-01-28</td>\n",
       "    </tr>\n",
       "    <tr>\n",
       "      <th>24</th>\n",
       "      <td>olavo</td>\n",
       "      <td>74731683511</td>\n",
       "      <td>2</td>\n",
       "      <td>33.5</td>\n",
       "      <td>7.1</td>\n",
       "      <td>8.5</td>\n",
       "      <td>tilapia</td>\n",
       "      <td>doce</td>\n",
       "      <td>12:30:00</td>\n",
       "      <td>2018-01-28</td>\n",
       "    </tr>\n",
       "  </tbody>\n",
       "</table>\n",
       "</div>"
      ],
      "text/plain": [
       "       nome          cpf  idtanque  temperatura   ph  oxigenio nomecientifico  \\\n",
       "0   joaquim  12331622510         4         33.0  7.0       8.6        tilapia   \n",
       "1   marcelo  14730683714         1         34.0  7.5       8.9        tilapia   \n",
       "2     bilbo  98753612345         5         34.0  7.5       8.9        dourado   \n",
       "3     olavo  74731683511         2         33.0  7.0       8.6        tilapia   \n",
       "4      jose  71131683510         3         34.0  7.5       8.9        dourado   \n",
       "5   joaquim  12331622510         4         33.1  7.1       8.8        tilapia   \n",
       "6      jose  71131683510         3         34.1  7.6       8.8        dourado   \n",
       "7     olavo  74731683511         2         33.1  7.1       8.8        tilapia   \n",
       "8     bilbo  98753612345         5         34.1  7.6       8.8        dourado   \n",
       "9   marcelo  14730683714         1         34.1  7.6       8.8        tilapia   \n",
       "10     jose  71131683510         3         34.3  7.7       8.7        dourado   \n",
       "11  marcelo  14730683714         1         34.3  7.7       8.7        tilapia   \n",
       "12    olavo  74731683511         2         32.3  7.5       8.6        tilapia   \n",
       "13  joaquim  12331622510         4         32.3  7.5       8.6        tilapia   \n",
       "14    bilbo  98753612345         5         34.3  7.7       8.7        dourado   \n",
       "15    bilbo  98753612345         5         34.4  7.8       8.7        dourado   \n",
       "16  marcelo  14730683714         1         34.4  7.8       8.7        tilapia   \n",
       "17  joaquim  12331622510         4         34.4  7.1       8.6        tilapia   \n",
       "18     jose  71131683510         3         34.4  7.8       8.7        dourado   \n",
       "19    olavo  74731683511         2         34.4  7.1       8.6        tilapia   \n",
       "20     jose  71131683510         3         35.5  7.9       8.5        dourado   \n",
       "21  joaquim  12331622510         4         33.5  7.1       8.5        tilapia   \n",
       "22  marcelo  14730683714         1         35.5  7.9       8.5        tilapia   \n",
       "23    bilbo  98753612345         5         35.5  7.9       8.5        dourado   \n",
       "24    olavo  74731683511         2         33.5  7.1       8.5        tilapia   \n",
       "\n",
       "   tipoagua      hora        data  \n",
       "0      doce  08:30:00  2018-01-28  \n",
       "1      doce  08:30:00  2018-01-28  \n",
       "2      doce  08:30:00  2018-01-28  \n",
       "3      doce  08:30:00  2018-01-28  \n",
       "4      doce  08:30:00  2018-01-28  \n",
       "5      doce  09:30:00  2018-01-28  \n",
       "6      doce  09:30:00  2018-01-28  \n",
       "7      doce  09:30:00  2018-01-28  \n",
       "8      doce  09:30:00  2018-01-28  \n",
       "9      doce  09:30:00  2018-01-28  \n",
       "10     doce  10:30:00  2018-01-28  \n",
       "11     doce  10:30:00  2018-01-28  \n",
       "12     doce  10:30:00  2018-01-28  \n",
       "13     doce  10:30:00  2018-01-28  \n",
       "14     doce  10:30:00  2018-01-28  \n",
       "15     doce  11:30:00  2018-01-28  \n",
       "16     doce  11:30:00  2018-01-28  \n",
       "17     doce  11:30:00  2018-01-28  \n",
       "18     doce  11:30:00  2018-01-28  \n",
       "19     doce  11:30:00  2018-01-28  \n",
       "20     doce  12:30:00  2018-01-28  \n",
       "21     doce  12:30:00  2018-01-28  \n",
       "22     doce  12:30:00  2018-01-28  \n",
       "23     doce  12:30:00  2018-01-28  \n",
       "24     doce  12:30:00  2018-01-28  "
      ]
     },
     "execution_count": 21,
     "metadata": {},
     "output_type": "execute_result"
    }
   ],
   "source": [
    "result = pd.read_sql_query(\"\"\"SELECT nome,cpf,idtanque, historicomedicao.temperatura,historicomedicao.ph,historicomedicao.oxigenio,nomecientifico,tipoagua,hora,data\n",
    "                          FROM  funcionario inner join tanque on(tanque.idtanque=funcionario.fk_tanque_idtanque)\n",
    "                          inner join peixe on (tanque.fk_peixe_idpeixe=peixe.idpeixe)\n",
    "                          inner join historicomedicao on (historicomedicao.fk_tanque_idtanque=tanque.idtanque)\n",
    "                          order by(hora,data);\n",
    "                          \"\"\",conn);\n",
    "result"
   ]
  },
  {
   "cell_type": "markdown",
   "metadata": {},
   "source": [
    "# Relatório 5 "
   ]
  },
  {
   "cell_type": "markdown",
   "metadata": {},
   "source": [
    "### mostrar dados  de informções  de contato dos funcionarios"
   ]
  },
  {
   "cell_type": "code",
   "execution_count": 19,
   "metadata": {},
   "outputs": [
    {
     "data": {
      "text/html": [
       "<div>\n",
       "<style scoped>\n",
       "    .dataframe tbody tr th:only-of-type {\n",
       "        vertical-align: middle;\n",
       "    }\n",
       "\n",
       "    .dataframe tbody tr th {\n",
       "        vertical-align: top;\n",
       "    }\n",
       "\n",
       "    .dataframe thead th {\n",
       "        text-align: right;\n",
       "    }\n",
       "</style>\n",
       "<table border=\"1\" class=\"dataframe\">\n",
       "  <thead>\n",
       "    <tr style=\"text-align: right;\">\n",
       "      <th></th>\n",
       "      <th>nome</th>\n",
       "      <th>cpf</th>\n",
       "      <th>cidade</th>\n",
       "      <th>bairro</th>\n",
       "      <th>logradouro</th>\n",
       "      <th>cep</th>\n",
       "      <th>telefone</th>\n",
       "    </tr>\n",
       "  </thead>\n",
       "  <tbody>\n",
       "    <tr>\n",
       "      <th>0</th>\n",
       "      <td>marcelo</td>\n",
       "      <td>14730683714</td>\n",
       "      <td>vila velha</td>\n",
       "      <td>soteco</td>\n",
       "      <td>rua visconde de taunay</td>\n",
       "      <td>29106080</td>\n",
       "      <td>33394433</td>\n",
       "    </tr>\n",
       "    <tr>\n",
       "      <th>1</th>\n",
       "      <td>olavo</td>\n",
       "      <td>74731683511</td>\n",
       "      <td>vila velha</td>\n",
       "      <td>cocal</td>\n",
       "      <td>rua cravos verdes</td>\n",
       "      <td>29106090</td>\n",
       "      <td>33393191</td>\n",
       "    </tr>\n",
       "    <tr>\n",
       "      <th>2</th>\n",
       "      <td>jose</td>\n",
       "      <td>71131683510</td>\n",
       "      <td>vila velha</td>\n",
       "      <td>cocal</td>\n",
       "      <td>rua laranja mecanica</td>\n",
       "      <td>29106100</td>\n",
       "      <td>33323987</td>\n",
       "    </tr>\n",
       "    <tr>\n",
       "      <th>3</th>\n",
       "      <td>joaquim</td>\n",
       "      <td>12331622510</td>\n",
       "      <td>vila velha</td>\n",
       "      <td>soteco</td>\n",
       "      <td>rua dos alfaiates</td>\n",
       "      <td>29106110</td>\n",
       "      <td>33393123</td>\n",
       "    </tr>\n",
       "    <tr>\n",
       "      <th>4</th>\n",
       "      <td>bilbo</td>\n",
       "      <td>98753612345</td>\n",
       "      <td>vila velha</td>\n",
       "      <td>condado</td>\n",
       "      <td>rua ponei saltitante</td>\n",
       "      <td>29106120</td>\n",
       "      <td>33393789</td>\n",
       "    </tr>\n",
       "  </tbody>\n",
       "</table>\n",
       "</div>"
      ],
      "text/plain": [
       "      nome          cpf      cidade   bairro              logradouro  \\\n",
       "0  marcelo  14730683714  vila velha   soteco  rua visconde de taunay   \n",
       "1    olavo  74731683511  vila velha    cocal       rua cravos verdes   \n",
       "2     jose  71131683510  vila velha    cocal    rua laranja mecanica   \n",
       "3  joaquim  12331622510  vila velha   soteco       rua dos alfaiates   \n",
       "4    bilbo  98753612345  vila velha  condado    rua ponei saltitante   \n",
       "\n",
       "        cep  telefone  \n",
       "0  29106080  33394433  \n",
       "1  29106090  33393191  \n",
       "2  29106100  33323987  \n",
       "3  29106110  33393123  \n",
       "4  29106120  33393789  "
      ]
     },
     "execution_count": 19,
     "metadata": {},
     "output_type": "execute_result"
    }
   ],
   "source": [
    "result =pd.read_sql_query(\"\"\"\n",
    "                SELECT nome,cpf,cidade,bairro,logradouro,cep,dado as telefone FROM  funcionario inner join endereco on (endereco.fk_funcionario_idfuncionario=funcionario.idfuncionario)\n",
    "                    inner join contato on (contato.fk_funcionario_idfuncionario=funcionario.idfuncionario)\n",
    "                    where \tfk_tipocontato_idtipo=2;\n",
    "                            \"\"\",conn)\n",
    "result"
   ]
  },
  {
   "cell_type": "markdown",
   "metadata": {},
   "source": [
    "# Referencias"
   ]
  },
  {
   "cell_type": "markdown",
   "metadata": {},
   "source": [
    "https://pandas.pydata.org/pandas-docs/stable/style.html <br>\n",
    "https://pythonspot.com/matplotlib-bar-chart/<br>\n",
    "https://pandas.pydata.org/pandas-docs/stable/generated/pandas.DataFrame.loc.html <br>"
   ]
  }
 ],
 "metadata": {
  "kernelspec": {
   "display_name": "Python 3",
   "language": "python",
   "name": "python3"
  },
  "language_info": {
   "codemirror_mode": {
    "name": "ipython",
    "version": 3
   },
   "file_extension": ".py",
   "mimetype": "text/x-python",
   "name": "python",
   "nbconvert_exporter": "python",
   "pygments_lexer": "ipython3",
   "version": "3.6.6"
  }
 },
 "nbformat": 4,
 "nbformat_minor": 2
}
